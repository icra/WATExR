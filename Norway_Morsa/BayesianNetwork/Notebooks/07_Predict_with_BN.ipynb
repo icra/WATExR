{
 "cells": [
  {
   "cell_type": "code",
   "execution_count": 1,
   "metadata": {},
   "outputs": [],
   "source": [
    "import pandas as pd\n",
    "import bayes_net_utils as bn"
   ]
  },
  {
   "cell_type": "markdown",
   "metadata": {},
   "source": [
    "# Bayesian network predictions\n",
    "\n",
    "This notebook is closely based on the code in `06_Predict_with_BN_1Season.ipynb`. The R code required to run the Bayesian network has been refactored into the R function `bayes_net_predict` in `bayes_net_utils.R`. There is also a Python function of the same name in `bayes_net_utils.py`, which provides a simple \"wrapper\" around the R fucntion. This should make it easy to make predictions from the Bayesian network via Python.\n",
    "\n",
    "**Note:** There is some computational overhead involved in interfacing between Python and R, but I don't think it will be a major problem."
   ]
  },
  {
   "cell_type": "code",
   "execution_count": 2,
   "metadata": {},
   "outputs": [
    {
     "data": {
      "text/html": [
       "<div>\n",
       "<style scoped>\n",
       "    .dataframe tbody tr th:only-of-type {\n",
       "        vertical-align: middle;\n",
       "    }\n",
       "\n",
       "    .dataframe tbody tr th {\n",
       "        vertical-align: top;\n",
       "    }\n",
       "\n",
       "    .dataframe thead th {\n",
       "        text-align: right;\n",
       "    }\n",
       "</style>\n",
       "<table border=\"1\" class=\"dataframe\">\n",
       "  <thead>\n",
       "    <tr style=\"text-align: right;\">\n",
       "      <th></th>\n",
       "      <th>year</th>\n",
       "      <th>chla_prevSummer</th>\n",
       "      <th>colour_prevSummer</th>\n",
       "      <th>TP_prevSummer</th>\n",
       "      <th>wind_speed</th>\n",
       "      <th>rain</th>\n",
       "    </tr>\n",
       "  </thead>\n",
       "  <tbody>\n",
       "    <tr>\n",
       "      <th>0</th>\n",
       "      <td>2020</td>\n",
       "      <td>12.866667</td>\n",
       "      <td>42</td>\n",
       "      <td>19.666667</td>\n",
       "      <td>3.968478</td>\n",
       "      <td>312.809003</td>\n",
       "    </tr>\n",
       "  </tbody>\n",
       "</table>\n",
       "</div>"
      ],
      "text/plain": [
       "   year  chla_prevSummer  colour_prevSummer  TP_prevSummer  wind_speed  \\\n",
       "0  2020        12.866667                 42      19.666667    3.968478   \n",
       "\n",
       "         rain  \n",
       "0  312.809003  "
      ]
     },
     "execution_count": 2,
     "metadata": {},
     "output_type": "execute_result"
    }
   ],
   "source": [
    "# Read the \"evidence\" into a dataframe\n",
    "ev_path = r'../Data/DataForPrediction/GaussianBN_DataForPrediction_1Season.csv'\n",
    "ev_df = pd.read_csv(ev_path)\n",
    "ev_df"
   ]
  },
  {
   "cell_type": "code",
   "execution_count": 3,
   "metadata": {},
   "outputs": [
    {
     "data": {
      "text/html": [
       "<div>\n",
       "<style scoped>\n",
       "    .dataframe tbody tr th:only-of-type {\n",
       "        vertical-align: middle;\n",
       "    }\n",
       "\n",
       "    .dataframe tbody tr th {\n",
       "        vertical-align: top;\n",
       "    }\n",
       "\n",
       "    .dataframe thead th {\n",
       "        text-align: right;\n",
       "    }\n",
       "</style>\n",
       "<table border=\"1\" class=\"dataframe\">\n",
       "  <thead>\n",
       "    <tr style=\"text-align: right;\">\n",
       "      <th></th>\n",
       "      <th>year</th>\n",
       "      <th>node</th>\n",
       "      <th>threshold</th>\n",
       "      <th>prob_below_threshold</th>\n",
       "      <th>prob_above_threshold</th>\n",
       "      <th>expected_value</th>\n",
       "      <th>sd</th>\n",
       "    </tr>\n",
       "  </thead>\n",
       "  <tbody>\n",
       "    <tr>\n",
       "      <th>2</th>\n",
       "      <td>2020</td>\n",
       "      <td>chla</td>\n",
       "      <td>20.0</td>\n",
       "      <td>0.99</td>\n",
       "      <td>0.01</td>\n",
       "      <td>9.750</td>\n",
       "      <td>3.680</td>\n",
       "    </tr>\n",
       "    <tr>\n",
       "      <th>4</th>\n",
       "      <td>2020</td>\n",
       "      <td>colour</td>\n",
       "      <td>48.0</td>\n",
       "      <td>0.94</td>\n",
       "      <td>0.06</td>\n",
       "      <td>34.200</td>\n",
       "      <td>8.720</td>\n",
       "    </tr>\n",
       "    <tr>\n",
       "      <th>3</th>\n",
       "      <td>2020</td>\n",
       "      <td>cyano</td>\n",
       "      <td>1.0</td>\n",
       "      <td>0.83</td>\n",
       "      <td>0.17</td>\n",
       "      <td>0.342</td>\n",
       "      <td>0.756</td>\n",
       "    </tr>\n",
       "    <tr>\n",
       "      <th>1</th>\n",
       "      <td>2020</td>\n",
       "      <td>TP</td>\n",
       "      <td>29.5</td>\n",
       "      <td>0.97</td>\n",
       "      <td>0.03</td>\n",
       "      <td>22.800</td>\n",
       "      <td>3.720</td>\n",
       "    </tr>\n",
       "  </tbody>\n",
       "</table>\n",
       "</div>"
      ],
      "text/plain": [
       "   year    node  threshold  prob_below_threshold  prob_above_threshold  \\\n",
       "2  2020    chla       20.0                  0.99                  0.01   \n",
       "4  2020  colour       48.0                  0.94                  0.06   \n",
       "3  2020   cyano        1.0                  0.83                  0.17   \n",
       "1  2020      TP       29.5                  0.97                  0.03   \n",
       "\n",
       "   expected_value     sd  \n",
       "2           9.750  3.680  \n",
       "4          34.200  8.720  \n",
       "3           0.342  0.756  \n",
       "1          22.800  3.720  "
      ]
     },
     "execution_count": 3,
     "metadata": {},
     "output_type": "execute_result"
    }
   ],
   "source": [
    "# Loop over rows in evidence table and make predictions\n",
    "df_list = []\n",
    "for idx, row in ev_df.iterrows():\n",
    "    # Run Bayesian network in R\n",
    "    df = bn.bayes_net_predict(float(row['year']),\n",
    "                              float(row['chla_prevSummer']),\n",
    "                              float(row['colour_prevSummer']),\n",
    "                              float(row['TP_prevSummer']),\n",
    "                              float(row['wind_speed']),\n",
    "                              float(row['rain']),\n",
    "                             )\n",
    "    \n",
    "    # Add 'year' to results as unique identifier\n",
    "    df['year'] = int(row['year'])\n",
    "    \n",
    "    df_list.append(df)\n",
    "    \n",
    "# Merge results\n",
    "df = pd.concat(df_list, sort=True)\n",
    "\n",
    "# Re-order cols\n",
    "df = df[['year', 'node', 'threshold','prob_below_threshold', \n",
    "         'prob_above_threshold', 'expected_value', 'sd']]\n",
    "\n",
    "df"
   ]
  }
 ],
 "metadata": {
  "kernelspec": {
   "display_name": "Python 3",
   "language": "python",
   "name": "python3"
  },
  "language_info": {
   "codemirror_mode": {
    "name": "ipython",
    "version": 3
   },
   "file_extension": ".py",
   "mimetype": "text/x-python",
   "name": "python",
   "nbconvert_exporter": "python",
   "pygments_lexer": "ipython3",
   "version": "3.7.3"
  }
 },
 "nbformat": 4,
 "nbformat_minor": 4
}

{
 "cells": [
  {
   "cell_type": "code",
   "execution_count": 1,
   "metadata": {},
   "outputs": [
    {
     "name": "stderr",
     "output_type": "stream",
     "text": [
      "── \u001b[1mAttaching packages\u001b[22m ─────────────────────────────────────── tidyverse 1.3.0 ──\n",
      "\n",
      "\u001b[32m✔\u001b[39m \u001b[34mggplot2\u001b[39m 3.2.1     \u001b[32m✔\u001b[39m \u001b[34mpurrr  \u001b[39m 0.3.3\n",
      "\u001b[32m✔\u001b[39m \u001b[34mtibble \u001b[39m 2.1.3     \u001b[32m✔\u001b[39m \u001b[34mdplyr  \u001b[39m 0.8.3\n",
      "\u001b[32m✔\u001b[39m \u001b[34mtidyr  \u001b[39m 1.0.2     \u001b[32m✔\u001b[39m \u001b[34mstringr\u001b[39m 1.4.0\n",
      "\u001b[32m✔\u001b[39m \u001b[34mreadr  \u001b[39m 1.3.1     \u001b[32m✔\u001b[39m \u001b[34mforcats\u001b[39m 0.4.0\n",
      "\n",
      "── \u001b[1mConflicts\u001b[22m ────────────────────────────────────────── tidyverse_conflicts() ──\n",
      "\u001b[31m✖\u001b[39m \u001b[34mdplyr\u001b[39m::\u001b[32mfilter()\u001b[39m masks \u001b[34mstats\u001b[39m::filter()\n",
      "\u001b[31m✖\u001b[39m \u001b[34mdplyr\u001b[39m::\u001b[32mlag()\u001b[39m    masks \u001b[34mstats\u001b[39m::lag()\n",
      "\n",
      "\n",
      "Attaching package: ‘bnlearn’\n",
      "\n",
      "\n",
      "The following object is masked from ‘package:stats’:\n",
      "\n",
      "    sigma\n",
      "\n",
      "\n"
     ]
    }
   ],
   "source": [
    "# Import packages\n",
    "library(tidyverse)\n",
    "library(bnlearn)"
   ]
  },
  {
   "cell_type": "markdown",
   "metadata": {},
   "source": [
    "# Intro\n",
    "\n",
    "Notebook for make water quality predictions for the next season using a pre-fitted bayesian network, saved as an R object (fitted in notebook Fit_BN_1Season).\n",
    "\n",
    "We want to make predictions for the following network nodes:\n",
    "* TP (mean TP concentration over the growing season, mg/l)\n",
    "* chla (mean colour over the growing season, mg/l)\n",
    "* colour_summer (mean colour over the growing season)\n",
    "* cyano (maximum cyano bacterial biovolume observed during the growing season, mg/l)\n",
    "\n",
    "Part of WATExR project. Leah JB, Jan 2020."
   ]
  },
  {
   "cell_type": "markdown",
   "metadata": {},
   "source": [
    "# Set up"
   ]
  },
  {
   "cell_type": "code",
   "execution_count": 2,
   "metadata": {},
   "outputs": [],
   "source": [
    "# Filepaths\n",
    "\n",
    "# Fitted Bayesian network R object\n",
    "rfile_fpath = \"../Data/RData/Vansjo_fitted_seasonal_GaussianBN_1981-2018.rds\"\n",
    "\n",
    "# Standard deviation info from fitted BN\n",
    "sd_fpath = \"../Data/FittedNetworkDiagnostics/GBN_1981-2018_stdevs.csv\"\n",
    "\n",
    "# Data to set as evidence for making predictions\n",
    "driving_data_fpath = \"../Data/DataForPrediction/GaussianBN_DataForPrediction_1Season.csv\"\n",
    "\n",
    "# Location for output dataframe of predictions\n",
    "out_fpath = \"../Data/BN_output_prediction/GaussianBN_Prediction_for_1_season.csv\""
   ]
  },
  {
   "cell_type": "code",
   "execution_count": 3,
   "metadata": {},
   "outputs": [],
   "source": [
    "# Read in fitted bayesian network\n",
    "fitted_BN = readRDS(rfile_fpath)\n",
    "# fitted_BN"
   ]
  },
  {
   "cell_type": "code",
   "execution_count": 4,
   "metadata": {},
   "outputs": [
    {
     "data": {
      "text/html": [
       "<table>\n",
       "<caption>A data.frame: 1 × 5</caption>\n",
       "<thead>\n",
       "\t<tr><th></th><th scope=col>chla_prevSummer</th><th scope=col>colour_prevSummer</th><th scope=col>TP_prevSummer</th><th scope=col>wind_speed</th><th scope=col>rain</th></tr>\n",
       "\t<tr><th></th><th scope=col>&lt;dbl&gt;</th><th scope=col>&lt;dbl&gt;</th><th scope=col>&lt;dbl&gt;</th><th scope=col>&lt;dbl&gt;</th><th scope=col>&lt;dbl&gt;</th></tr>\n",
       "</thead>\n",
       "<tbody>\n",
       "\t<tr><th scope=row>2020</th><td>12.86667</td><td>42</td><td>19.66667</td><td>3.968478</td><td>312.809</td></tr>\n",
       "</tbody>\n",
       "</table>\n"
      ],
      "text/latex": [
       "A data.frame: 1 × 5\n",
       "\\begin{tabular}{r|lllll}\n",
       "  & chla\\_prevSummer & colour\\_prevSummer & TP\\_prevSummer & wind\\_speed & rain\\\\\n",
       "  & <dbl> & <dbl> & <dbl> & <dbl> & <dbl>\\\\\n",
       "\\hline\n",
       "\t2020 & 12.86667 & 42 & 19.66667 & 3.968478 & 312.809\\\\\n",
       "\\end{tabular}\n"
      ],
      "text/markdown": [
       "\n",
       "A data.frame: 1 × 5\n",
       "\n",
       "| <!--/--> | chla_prevSummer &lt;dbl&gt; | colour_prevSummer &lt;dbl&gt; | TP_prevSummer &lt;dbl&gt; | wind_speed &lt;dbl&gt; | rain &lt;dbl&gt; |\n",
       "|---|---|---|---|---|---|\n",
       "| 2020 | 12.86667 | 42 | 19.66667 | 3.968478 | 312.809 |\n",
       "\n"
      ],
      "text/plain": [
       "     chla_prevSummer colour_prevSummer TP_prevSummer wind_speed rain   \n",
       "2020 12.86667        42                19.66667      3.968478   312.809"
      ]
     },
     "metadata": {},
     "output_type": "display_data"
    }
   ],
   "source": [
    "# Read in (and if necessary format) data to use in making predictions\n",
    "driving_data = read.csv(file=driving_data_fpath, header=TRUE, sep=\",\", row.names = 1)\n",
    "driving_data[1:ncol(driving_data)] = lapply(driving_data[1:ncol(driving_data)], as.numeric) # Convert any integer cols to numeric\n",
    "\n",
    "driving_data"
   ]
  },
  {
   "cell_type": "markdown",
   "metadata": {},
   "source": [
    "# Make prediction\n",
    "\n",
    "For each nodes we want predictions for (TP, chla, colour_summer, cyano'), predict:\n",
    "- Expected value\n",
    "- Append standard error info (read from file)\n",
    "- Probability of being in different WFD-relevant classes\n",
    "- Save df"
   ]
  },
  {
   "cell_type": "code",
   "execution_count": 5,
   "metadata": {},
   "outputs": [],
   "source": [
    "# Nodes to make predictions for. Must match nodes present in the fitted BN.\n",
    "# Add check that list is sorted alphabetically, as concatenation of final df assumes this\n",
    "nodes_to_predict = sort(c('chla','colour','cyano', 'TP'))"
   ]
  },
  {
   "cell_type": "markdown",
   "metadata": {},
   "source": [
    "## Expected value"
   ]
  },
  {
   "cell_type": "code",
   "execution_count": 6,
   "metadata": {},
   "outputs": [
    {
     "data": {
      "text/html": [
       "<dl>\n",
       "\t<dt>$chla</dt>\n",
       "\t\t<dd>9.74871445011374</dd>\n",
       "\t<dt>$colour</dt>\n",
       "\t\t<dd>34.2312601912968</dd>\n",
       "\t<dt>$cyano</dt>\n",
       "\t\t<dd>0.341952815695175</dd>\n",
       "\t<dt>$TP</dt>\n",
       "\t\t<dd>22.7516042566387</dd>\n",
       "</dl>\n"
      ],
      "text/latex": [
       "\\begin{description}\n",
       "\\item[\\$chla] 9.74871445011374\n",
       "\\item[\\$colour] 34.2312601912968\n",
       "\\item[\\$cyano] 0.341952815695175\n",
       "\\item[\\$TP] 22.7516042566387\n",
       "\\end{description}\n"
      ],
      "text/markdown": [
       "$chla\n",
       ":   9.74871445011374\n",
       "$colour\n",
       ":   34.2312601912968\n",
       "$cyano\n",
       ":   0.341952815695175\n",
       "$TP\n",
       ":   22.7516042566387\n",
       "\n",
       "\n"
      ],
      "text/plain": [
       "$chla\n",
       "[1] 9.748714\n",
       "\n",
       "$colour\n",
       "[1] 34.23126\n",
       "\n",
       "$cyano\n",
       "[1] 0.3419528\n",
       "\n",
       "$TP\n",
       "[1] 22.7516\n"
      ]
     },
     "metadata": {},
     "output_type": "display_data"
    }
   ],
   "source": [
    "set.seed(1)\n",
    "\n",
    "# First, make an empty list to populate below\n",
    "expectedValue_li = vector(mode = \"list\", length = 0)\n",
    "\n",
    "for (node in nodes_to_predict)\n",
    "    \n",
    "    {pred = predict(fitted_BN,\n",
    "                data=driving_data,\n",
    "                node=node,\n",
    "                method='bayes-lw',\n",
    "                n=10000)\n",
    "     \n",
    "     # If node is cyano, then remove the boxcox transformation before adding expected value to list\n",
    "     if (node==\"cyano\")\n",
    "         {pred = (pred*0.1 + 1)**(1/0.1)} # 0.1 is lambda value chosen in transformation\n",
    "     \n",
    "     expectedValue_li[[node]] = pred # Update list with value for this node\n",
    "    }\n",
    "\n",
    "expectedValue_li = expectedValue_li[order(names(expectedValue_li))] # Sort alphabetically\n",
    "expectedValue_li"
   ]
  },
  {
   "cell_type": "markdown",
   "metadata": {},
   "source": [
    "## Standard deviation (standard error) info\n",
    "\n",
    "This is particularly relevant for the operational tool, as extra info to accompany the predictions."
   ]
  },
  {
   "cell_type": "code",
   "execution_count": 7,
   "metadata": {},
   "outputs": [
    {
     "data": {
      "text/html": [
       "<table>\n",
       "<caption>A data.frame: 9 × 2</caption>\n",
       "<thead>\n",
       "\t<tr><th scope=col>node</th><th scope=col>sd</th></tr>\n",
       "\t<tr><th scope=col>&lt;fct&gt;</th><th scope=col>&lt;dbl&gt;</th></tr>\n",
       "</thead>\n",
       "<tbody>\n",
       "\t<tr><td>TP               </td><td>  3.7172913</td></tr>\n",
       "\t<tr><td>TP_prevSummer    </td><td>  5.1064952</td></tr>\n",
       "\t<tr><td>chla             </td><td>  3.6819202</td></tr>\n",
       "\t<tr><td>chla_prevSummer  </td><td>  5.5962641</td></tr>\n",
       "\t<tr><td>wind_speed       </td><td>  0.2482299</td></tr>\n",
       "\t<tr><td>cyano            </td><td>  0.7559635</td></tr>\n",
       "\t<tr><td>colour_prevSummer</td><td> 16.9096069</td></tr>\n",
       "\t<tr><td>colour           </td><td>  8.7201518</td></tr>\n",
       "\t<tr><td>rain             </td><td>101.2735520</td></tr>\n",
       "</tbody>\n",
       "</table>\n"
      ],
      "text/latex": [
       "A data.frame: 9 × 2\n",
       "\\begin{tabular}{ll}\n",
       " node & sd\\\\\n",
       " <fct> & <dbl>\\\\\n",
       "\\hline\n",
       "\t TP                &   3.7172913\\\\\n",
       "\t TP\\_prevSummer     &   5.1064952\\\\\n",
       "\t chla              &   3.6819202\\\\\n",
       "\t chla\\_prevSummer   &   5.5962641\\\\\n",
       "\t wind\\_speed        &   0.2482299\\\\\n",
       "\t cyano             &   0.7559635\\\\\n",
       "\t colour\\_prevSummer &  16.9096069\\\\\n",
       "\t colour            &   8.7201518\\\\\n",
       "\t rain              & 101.2735520\\\\\n",
       "\\end{tabular}\n"
      ],
      "text/markdown": [
       "\n",
       "A data.frame: 9 × 2\n",
       "\n",
       "| node &lt;fct&gt; | sd &lt;dbl&gt; |\n",
       "|---|---|\n",
       "| TP                |   3.7172913 |\n",
       "| TP_prevSummer     |   5.1064952 |\n",
       "| chla              |   3.6819202 |\n",
       "| chla_prevSummer   |   5.5962641 |\n",
       "| wind_speed        |   0.2482299 |\n",
       "| cyano             |   0.7559635 |\n",
       "| colour_prevSummer |  16.9096069 |\n",
       "| colour            |   8.7201518 |\n",
       "| rain              | 101.2735520 |\n",
       "\n"
      ],
      "text/plain": [
       "  node              sd         \n",
       "1 TP                  3.7172913\n",
       "2 TP_prevSummer       5.1064952\n",
       "3 chla                3.6819202\n",
       "4 chla_prevSummer     5.5962641\n",
       "5 wind_speed          0.2482299\n",
       "6 cyano               0.7559635\n",
       "7 colour_prevSummer  16.9096069\n",
       "8 colour              8.7201518\n",
       "9 rain              101.2735520"
      ]
     },
     "metadata": {},
     "output_type": "display_data"
    }
   ],
   "source": [
    "# Add pre-saved standard deviation (error) information for each node\n",
    "sds = read.csv(file=sd_fpath, header=TRUE, sep=\",\")\n",
    "sds"
   ]
  },
  {
   "cell_type": "code",
   "execution_count": 8,
   "metadata": {},
   "outputs": [
    {
     "data": {
      "text/html": [
       "<table>\n",
       "<caption>A data.frame: 4 × 2</caption>\n",
       "<thead>\n",
       "\t<tr><th></th><th scope=col>node</th><th scope=col>sd</th></tr>\n",
       "\t<tr><th></th><th scope=col>&lt;fct&gt;</th><th scope=col>&lt;dbl&gt;</th></tr>\n",
       "</thead>\n",
       "<tbody>\n",
       "\t<tr><th scope=row>2</th><td>chla  </td><td>3.6819202</td></tr>\n",
       "\t<tr><th scope=row>4</th><td>colour</td><td>8.7201518</td></tr>\n",
       "\t<tr><th scope=row>3</th><td>cyano </td><td>0.7559635</td></tr>\n",
       "\t<tr><th scope=row>1</th><td>TP    </td><td>3.7172913</td></tr>\n",
       "</tbody>\n",
       "</table>\n"
      ],
      "text/latex": [
       "A data.frame: 4 × 2\n",
       "\\begin{tabular}{r|ll}\n",
       "  & node & sd\\\\\n",
       "  & <fct> & <dbl>\\\\\n",
       "\\hline\n",
       "\t2 & chla   & 3.6819202\\\\\n",
       "\t4 & colour & 8.7201518\\\\\n",
       "\t3 & cyano  & 0.7559635\\\\\n",
       "\t1 & TP     & 3.7172913\\\\\n",
       "\\end{tabular}\n"
      ],
      "text/markdown": [
       "\n",
       "A data.frame: 4 × 2\n",
       "\n",
       "| <!--/--> | node &lt;fct&gt; | sd &lt;dbl&gt; |\n",
       "|---|---|---|\n",
       "| 2 | chla   | 3.6819202 |\n",
       "| 4 | colour | 8.7201518 |\n",
       "| 3 | cyano  | 0.7559635 |\n",
       "| 1 | TP     | 3.7172913 |\n",
       "\n"
      ],
      "text/plain": [
       "  node   sd       \n",
       "2 chla   3.6819202\n",
       "4 colour 8.7201518\n",
       "3 cyano  0.7559635\n",
       "1 TP     3.7172913"
      ]
     },
     "metadata": {},
     "output_type": "display_data"
    }
   ],
   "source": [
    "# Just select values associated with nodes for prediction, and sort alphabetically\n",
    "sd_predictedNodes = filter(sds, node %in% nodes_to_predict)\n",
    "sd_predictedNodes = sd_predictedNodes[order(sd_predictedNodes$node),]\n",
    "sd_predictedNodes"
   ]
  },
  {
   "cell_type": "markdown",
   "metadata": {},
   "source": [
    "## Probability of being within WFD classes"
   ]
  },
  {
   "cell_type": "code",
   "execution_count": 9,
   "metadata": {},
   "outputs": [],
   "source": [
    "boundaries_list = list('TP' = 29.5, # Middle of 'Moderate' class\n",
    "                       'chla' = 20.0, # M-P boundary. WFD boundaries: [10.5, 20.0]. Only 6 observed points under 10.5 so merge G & M\n",
    "                       'colour' = 48.0, # 66th percentile (i.e. upper tercile). No management implications\n",
    "                       'cyano' = 1.0 # M-P boundary is 2.0, but there were only 2 values in this class. Plenty above 2 tho\n",
    "                       )\n",
    "\n",
    "boundaries_list = boundaries_list[order(names(boundaries_list))] # Sort alphabetically"
   ]
  },
  {
   "cell_type": "code",
   "execution_count": 10,
   "metadata": {},
   "outputs": [
    {
     "data": {
      "text/html": [
       "<dl>\n",
       "\t<dt>$chla</dt>\n",
       "\t\t<dd>0.99</dd>\n",
       "\t<dt>$colour</dt>\n",
       "\t\t<dd>0.94</dd>\n",
       "\t<dt>$cyano</dt>\n",
       "\t\t<dd>0.83</dd>\n",
       "\t<dt>$TP</dt>\n",
       "\t\t<dd>0.97</dd>\n",
       "</dl>\n"
      ],
      "text/latex": [
       "\\begin{description}\n",
       "\\item[\\$chla] 0.99\n",
       "\\item[\\$colour] 0.94\n",
       "\\item[\\$cyano] 0.83\n",
       "\\item[\\$TP] 0.97\n",
       "\\end{description}\n"
      ],
      "text/markdown": [
       "$chla\n",
       ":   0.99\n",
       "$colour\n",
       ":   0.94\n",
       "$cyano\n",
       ":   0.83\n",
       "$TP\n",
       ":   0.97\n",
       "\n",
       "\n"
      ],
      "text/plain": [
       "$chla\n",
       "[1] 0.99\n",
       "\n",
       "$colour\n",
       "[1] 0.94\n",
       "\n",
       "$cyano\n",
       "[1] 0.83\n",
       "\n",
       "$TP\n",
       "[1] 0.97\n"
      ]
     },
     "metadata": {},
     "output_type": "display_data"
    }
   ],
   "source": [
    "# Data for evidence, converted to named list\n",
    "evidence_li = as.list(driving_data) # Evidence must be provided as a named list\n",
    "\n",
    "# Empty list to be populated with probability of being below boundary\n",
    "prob_li = vector(mode = \"list\", length = 0)\n",
    "\n",
    "for (node in nodes_to_predict)\n",
    "    {\n",
    "    boundary = unlist(boundaries_list[node], use.names=FALSE)\n",
    "\n",
    "    # If cyanomax, apply boxcox transformation with lambda=0.1\n",
    "    if (node=='cyano')\n",
    "        {boundary = (boundary^0.1 - 1)/0.1}\n",
    "    \n",
    "    prob = cpquery(fitted_BN,\n",
    "                   event = (eval(as.name(node)) < boundary),\n",
    "                   evidence=evidence_li,\n",
    "                   method='lw')\n",
    "    \n",
    "    # Round to 2 d.p. Below this, cpquery returns variable results over diff calls\n",
    "    # Even with rounding, still get some variability in results\n",
    "    prob = round(prob,digits=2)\n",
    "    \n",
    "    prob_li[[node]] = prob\n",
    "    }\n",
    "\n",
    "# Double-check it's sorted alphabetically\n",
    "prob_li = prob_li[order(names(prob_li))] # Sort alphabetically\n",
    "prob_li"
   ]
  },
  {
   "cell_type": "markdown",
   "metadata": {},
   "source": [
    "# Add all info to a dataframe and save"
   ]
  },
  {
   "cell_type": "code",
   "execution_count": 11,
   "metadata": {},
   "outputs": [
    {
     "data": {
      "text/html": [
       "<table>\n",
       "<caption>A data.frame: 4 × 6</caption>\n",
       "<thead>\n",
       "\t<tr><th></th><th scope=col>node</th><th scope=col>threshold</th><th scope=col>prob_below_threshold</th><th scope=col>prob_above_threshold</th><th scope=col>expected_value</th><th scope=col>sd</th></tr>\n",
       "\t<tr><th></th><th scope=col>&lt;fct&gt;</th><th scope=col>&lt;dbl&gt;</th><th scope=col>&lt;dbl&gt;</th><th scope=col>&lt;dbl&gt;</th><th scope=col>&lt;dbl&gt;</th><th scope=col>&lt;dbl&gt;</th></tr>\n",
       "</thead>\n",
       "<tbody>\n",
       "\t<tr><th scope=row>2</th><td>chla  </td><td>20.0</td><td>0.99</td><td>0.01</td><td> 9.750</td><td>3.680</td></tr>\n",
       "\t<tr><th scope=row>4</th><td>colour</td><td>48.0</td><td>0.94</td><td>0.06</td><td>34.200</td><td>8.720</td></tr>\n",
       "\t<tr><th scope=row>3</th><td>cyano </td><td> 1.0</td><td>0.83</td><td>0.17</td><td> 0.342</td><td>0.756</td></tr>\n",
       "\t<tr><th scope=row>1</th><td>TP    </td><td>29.5</td><td>0.97</td><td>0.03</td><td>22.800</td><td>3.720</td></tr>\n",
       "</tbody>\n",
       "</table>\n"
      ],
      "text/latex": [
       "A data.frame: 4 × 6\n",
       "\\begin{tabular}{r|llllll}\n",
       "  & node & threshold & prob\\_below\\_threshold & prob\\_above\\_threshold & expected\\_value & sd\\\\\n",
       "  & <fct> & <dbl> & <dbl> & <dbl> & <dbl> & <dbl>\\\\\n",
       "\\hline\n",
       "\t2 & chla   & 20.0 & 0.99 & 0.01 &  9.750 & 3.680\\\\\n",
       "\t4 & colour & 48.0 & 0.94 & 0.06 & 34.200 & 8.720\\\\\n",
       "\t3 & cyano  &  1.0 & 0.83 & 0.17 &  0.342 & 0.756\\\\\n",
       "\t1 & TP     & 29.5 & 0.97 & 0.03 & 22.800 & 3.720\\\\\n",
       "\\end{tabular}\n"
      ],
      "text/markdown": [
       "\n",
       "A data.frame: 4 × 6\n",
       "\n",
       "| <!--/--> | node &lt;fct&gt; | threshold &lt;dbl&gt; | prob_below_threshold &lt;dbl&gt; | prob_above_threshold &lt;dbl&gt; | expected_value &lt;dbl&gt; | sd &lt;dbl&gt; |\n",
       "|---|---|---|---|---|---|---|\n",
       "| 2 | chla   | 20.0 | 0.99 | 0.01 |  9.750 | 3.680 |\n",
       "| 4 | colour | 48.0 | 0.94 | 0.06 | 34.200 | 8.720 |\n",
       "| 3 | cyano  |  1.0 | 0.83 | 0.17 |  0.342 | 0.756 |\n",
       "| 1 | TP     | 29.5 | 0.97 | 0.03 | 22.800 | 3.720 |\n",
       "\n"
      ],
      "text/plain": [
       "  node   threshold prob_below_threshold prob_above_threshold expected_value\n",
       "2 chla   20.0      0.99                 0.01                  9.750        \n",
       "4 colour 48.0      0.94                 0.06                 34.200        \n",
       "3 cyano   1.0      0.83                 0.17                  0.342        \n",
       "1 TP     29.5      0.97                 0.03                 22.800        \n",
       "  sd   \n",
       "2 3.680\n",
       "4 8.720\n",
       "3 0.756\n",
       "1 3.720"
      ]
     },
     "metadata": {},
     "output_type": "display_data"
    }
   ],
   "source": [
    "prob_df = data.frame(node=nodes_to_predict,\n",
    "                     threshold = unlist(boundaries_list, use.names=FALSE),\n",
    "                     prob_below_threshold = unlist(prob_li, use.names=FALSE),\n",
    "                     prob_above_threshold = 1-unlist(prob_li, use.names=FALSE),\n",
    "                     expected_value = signif(unlist(expectedValue_li, use.names=FALSE),3), #Round to 3 s.f\n",
    "                     st_dev = signif(sd_predictedNodes['sd'],3)) #Round to 3 s.f\n",
    "\n",
    "write.csv(prob_df, out_fpath, row.names=FALSE)\n",
    "\n",
    "prob_df"
   ]
  }
 ],
 "metadata": {
  "kernelspec": {
   "display_name": "R",
   "language": "R",
   "name": "ir"
  },
  "language_info": {
   "codemirror_mode": "r",
   "file_extension": ".r",
   "mimetype": "text/x-r-source",
   "name": "R",
   "pygments_lexer": "r",
   "version": "3.6.2"
  }
 },
 "nbformat": 4,
 "nbformat_minor": 4
}
